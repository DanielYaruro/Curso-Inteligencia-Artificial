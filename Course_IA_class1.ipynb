{
  "nbformat": 4,
  "nbformat_minor": 0,
  "metadata": {
    "colab": {
      "provenance": []
    },
    "kernelspec": {
      "name": "python3",
      "display_name": "Python 3"
    },
    "language_info": {
      "name": "python"
    }
  },
  "cells": [
    {
      "cell_type": "code",
      "execution_count": null,
      "metadata": {
        "colab": {
          "base_uri": "https://localhost:8080/"
        },
        "id": "1Z8T-dI9mVE0",
        "outputId": "099294a7-930d-4e2e-d44b-f785f46c1872"
      },
      "outputs": [
        {
          "output_type": "stream",
          "name": "stdout",
          "text": [
            "[1, 5, 8, 10]\n",
            "listas2 = ['inteligencia', 4.223, 3, 16, False]\n",
            "listas3 = [[8, 2, 9], [35, 44, 19], [63, 41, 75]]\n"
          ]
        }
      ],
      "source": [
        "import numpy as np\n",
        "\n",
        "#Creando listas de dtos\n",
        "listas1 = [1, 5, 8, 10]\n",
        "print(listas1)\n",
        "listas2 = [\"inteligencia\", 4.223, 3, 16, False]\n",
        "print(\"listas2 =\", listas2)\n",
        "\n",
        "listas3 = [[8,2,9], [35, 44, 19], [63,41,75]]\n",
        "\n",
        "print(\"listas3 =\", listas3)\n",
        "\n"
      ]
    },
    {
      "cell_type": "code",
      "source": [
        "#Creando arreglos desde listas\n",
        "\n",
        "n = [[1.25,2,3],\n",
        " [np.pi, 44, 212],\n",
        "     [19.1, 21.9, 0.00045],\n",
        "     [14,2,4]]\n",
        "\n",
        "#Arreglo multidimensional\n",
        "m = np.array(n)\n",
        "print(\"Tipo de dato: \", m.dtype)\n",
        "print(\"Forma del arreglo: \", m.shape)\n",
        "print(\"Tamaño del arreglo: \", m.size)\n",
        "print(\"Dimension del arreglo: \", m.ndim)\n",
        "print(n)"
      ],
      "metadata": {
        "colab": {
          "base_uri": "https://localhost:8080/"
        },
        "id": "U-fc_PZLmxkL",
        "outputId": "09627c77-53bf-4436-b2a4-6a70d97a9489"
      },
      "execution_count": null,
      "outputs": [
        {
          "output_type": "stream",
          "name": "stdout",
          "text": [
            "Tipo de dato:  float64\n",
            "Forma del arreglo:  (4, 3)\n",
            "Tamaño del arreglo:  12\n",
            "Dimension del arreglo:  2\n",
            "[[1.25, 2, 3], [3.141592653589793, 44, 212], [19.1, 21.9, 0.00045], [14, 2, 4]]\n"
          ]
        }
      ]
    },
    {
      "cell_type": "code",
      "source": [
        "arreglo = [21,32,58,47]\n",
        "\n",
        "m = np.array(arreglo, dtype= \"float16\" )\n",
        "print(\"Tipo de dato: \", m.dtype)\n",
        "print(\"Forma del arreglo: \", m.shape)\n",
        "print(\"Tamaño del arreglo: \", m.size)\n",
        "print(\"Dimension del arreglo: \", m.ndim)\n",
        "print(m)"
      ],
      "metadata": {
        "colab": {
          "base_uri": "https://localhost:8080/"
        },
        "id": "ig-UOAGzXqxx",
        "outputId": "feddd187-97ad-4cf1-afa8-d06065d2271c"
      },
      "execution_count": null,
      "outputs": [
        {
          "output_type": "stream",
          "name": "stdout",
          "text": [
            "Tipo de dato:  float16\n",
            "Forma del arreglo:  (4,)\n",
            "Tamaño del arreglo:  4\n",
            "Dimension del arreglo:  1\n",
            "[21. 32. 58. 47.]\n"
          ]
        }
      ]
    },
    {
      "cell_type": "markdown",
      "source": [
        "Redimensionando los arreglos"
      ],
      "metadata": {
        "id": "BrpWj6A0ZhJx"
      }
    },
    {
      "cell_type": "code",
      "source": [
        "arr = np.array([[1, 2, 3, 4, 5],\n",
        "                [4, 5, 6, 7, 8]])\n",
        "\n",
        "\n",
        "print(\"Tipo de dato: \", arr.dtype)\n",
        "print(\"Forma del arreglo: \", arr.shape)\n",
        "print(\"Tamaño del arreglo: \", arr.size)\n",
        "print(\"Dimension del arreglo: \", arr.ndim)\n",
        "print(arr)\n"
      ],
      "metadata": {
        "colab": {
          "base_uri": "https://localhost:8080/"
        },
        "id": "OcVY4xkQZj6o",
        "outputId": "3ae8b602-708e-4e57-a95e-57d346d889ac"
      },
      "execution_count": null,
      "outputs": [
        {
          "output_type": "stream",
          "name": "stdout",
          "text": [
            "Tipo de dato:  int64\n",
            "Forma del arreglo:  (2, 5)\n",
            "Tamaño del arreglo:  10\n",
            "Dimension del arreglo:  2\n",
            "[[1 2 3 4 5]\n",
            " [4 5 6 7 8]]\n"
          ]
        }
      ]
    },
    {
      "cell_type": "code",
      "source": [
        "#Manera de cambiarle la forma a la matriz de varias dimensiones\n",
        "\n",
        "arr = np.array([[1, 2, 3, 4, 5],\n",
        "                [4, 5, 6, 7, 8]], dtype = 'float64')\n",
        "#Ejemplo de como redimensionar la dimension de un arreglo\n",
        "arr.shape = (5,2)\n",
        "print(\"Tipo de dato: \", arr.dtype)\n",
        "print(\"Forma del arreglo: \", arr.shape)\n",
        "print(\"Tamaño del arreglo: \", arr.size)\n",
        "print(\"Dimension del arreglo: \", arr.ndim)\n",
        "print(arr)"
      ],
      "metadata": {
        "colab": {
          "base_uri": "https://localhost:8080/"
        },
        "id": "Px8toAjra4_P",
        "outputId": "fff1cb1b-275c-4b9a-a368-12cc9f901062"
      },
      "execution_count": null,
      "outputs": [
        {
          "output_type": "stream",
          "name": "stdout",
          "text": [
            "[[1. 2.]\n",
            " [3. 4.]\n",
            " [5. 4.]\n",
            " [5. 6.]\n",
            " [7. 8.]]\n"
          ]
        }
      ]
    },
    {
      "cell_type": "code",
      "source": [
        "#Otras formas de crear arreglos\n",
        "\n",
        "#Arreglo de tres dimensiones\n",
        "\n",
        "mat = np.arange(36).reshape(3,4,3)\n",
        "\n",
        "print(' Tipo de dato = ', mat.dtype)\n",
        "print(' Shape del arreglo = ', mat.shape)\n",
        "print(' Tamaño del arreglo = ', mat.size)\n",
        "print(' Dimensiones del arreglo = ', mat.ndim)\n",
        "print(mat)"
      ],
      "metadata": {
        "colab": {
          "base_uri": "https://localhost:8080/"
        },
        "id": "GwwMgm12rkCU",
        "outputId": "63afa3d4-3f85-4a91-d5e6-0a8f5b8e2689"
      },
      "execution_count": null,
      "outputs": [
        {
          "output_type": "stream",
          "name": "stdout",
          "text": [
            " Tipo de dato =  int64\n",
            " Shape del arreglo =  (3, 4, 3)\n",
            " Tamaño del arreglo =  36\n",
            " Dimensiones del arreglo =  3\n",
            "[[[ 0  1  2]\n",
            "  [ 3  4  5]\n",
            "  [ 6  7  8]\n",
            "  [ 9 10 11]]\n",
            "\n",
            " [[12 13 14]\n",
            "  [15 16 17]\n",
            "  [18 19 20]\n",
            "  [21 22 23]]\n",
            "\n",
            " [[24 25 26]\n",
            "  [27 28 29]\n",
            "  [30 31 32]\n",
            "  [33 34 35]]]\n"
          ]
        }
      ]
    },
    {
      "cell_type": "code",
      "source": [
        "#Trayendo todos los elementos de la dimension 0, fila 0, todas las columnas\n",
        "print('Dimension 0, toda la primera fila', mat[0,0,:])\n",
        "print('Dimension 0, toda la segunda fila', mat[0,1,:])\n",
        "print('Dimension 0, toda la tercera fila', mat[0,2,:])\n",
        "\n",
        "print('Dimension 1, toda la primera columna', mat[1,:,0])\n",
        "print('Dimension 1, toda la segunda columna', mat[1,:,1])\n",
        "print('Dimension 1, toda la tercera columna', mat[1,:,2])\n",
        "\n",
        "#Traer todos los elementos de una dimension\n",
        "print('Elementos de la dimension 2\\n', mat[2,:,:])\n"
      ],
      "metadata": {
        "colab": {
          "base_uri": "https://localhost:8080/"
        },
        "id": "lSOxjk3cs7ts",
        "outputId": "b9dfbc30-c49c-4769-aa38-32ec377a5688"
      },
      "execution_count": null,
      "outputs": [
        {
          "output_type": "stream",
          "name": "stdout",
          "text": [
            "Dimension 0, toda la primera fila [0 1 2]\n",
            "Dimension 0, toda la segunda fila [3 4 5]\n",
            "Dimension 0, toda la tercera fila [6 7 8]\n",
            "Dimension 1, toda la primera columna [12 15 18 21]\n",
            "Dimension 1, toda la segunda columna [13 16 19 22]\n",
            "Dimension 1, toda la tercera columna [14 17 20 23]\n",
            "Elementos de la dimension 2\n",
            " [[24 25 26]\n",
            " [27 28 29]\n",
            " [30 31 32]\n",
            " [33 34 35]]\n"
          ]
        }
      ]
    },
    {
      "cell_type": "code",
      "source": [
        "m1 = np.arange(6)\n",
        "print(m1)\n",
        "\n",
        "m2 = np.arange(24).reshape(6,4)\n",
        "print(m2)"
      ],
      "metadata": {
        "colab": {
          "base_uri": "https://localhost:8080/"
        },
        "id": "3kbwK-Beug-N",
        "outputId": "144197c4-a453-4d46-90bd-fa595ce3c5b9"
      },
      "execution_count": null,
      "outputs": [
        {
          "output_type": "stream",
          "name": "stdout",
          "text": [
            "[0 1 2 3 4 5]\n",
            "[[ 0  1  2  3]\n",
            " [ 4  5  6  7]\n",
            " [ 8  9 10 11]\n",
            " [12 13 14 15]\n",
            " [16 17 18 19]\n",
            " [20 21 22 23]]\n"
          ]
        }
      ]
    },
    {
      "cell_type": "code",
      "source": [
        "#Otra forma de utilizar la funcion arange\n",
        "\n",
        "m3 = np.arange(0,10,3).reshape(4,1)\n",
        "print(m3)\n",
        "\n",
        "#Con incremento negativo\n",
        "m4 = np.arange(50,14,-5).reshape(2,2,2)\n",
        "print(m4)"
      ],
      "metadata": {
        "colab": {
          "base_uri": "https://localhost:8080/"
        },
        "id": "hRfUKvOevQjl",
        "outputId": "8e332460-c666-447b-a356-364b94777ba4"
      },
      "execution_count": null,
      "outputs": [
        {
          "output_type": "stream",
          "name": "stdout",
          "text": [
            "[[0]\n",
            " [3]\n",
            " [6]\n",
            " [9]]\n",
            "[[[50 45]\n",
            "  [40 35]]\n",
            "\n",
            " [[30 25]\n",
            "  [20 15]]]\n"
          ]
        }
      ]
    },
    {
      "cell_type": "code",
      "source": [
        "#Utilizando la funcion linspace en python\n",
        "\n",
        "m = np.linspace(1,20,9, dtype='float64').reshape(3,3)\n",
        "print(m)"
      ],
      "metadata": {
        "colab": {
          "base_uri": "https://localhost:8080/"
        },
        "id": "ZF45ValswjqC",
        "outputId": "38f8d014-ae6f-42af-f402-1b4f0f661c01"
      },
      "execution_count": null,
      "outputs": [
        {
          "output_type": "stream",
          "name": "stdout",
          "text": [
            "[[ 1.     3.375  5.75 ]\n",
            " [ 8.125 10.5   12.875]\n",
            " [15.25  17.625 20.   ]]\n"
          ]
        }
      ]
    },
    {
      "cell_type": "code",
      "source": [
        "#Utilizando la funcion logspace en python\n",
        "m = np.logspace(2,3,10, dtype='float64')\n",
        "print(m)\n"
      ],
      "metadata": {
        "colab": {
          "base_uri": "https://localhost:8080/"
        },
        "id": "tUag1AXYxbYW",
        "outputId": "55ddfe47-027f-4338-a84c-ba3499bf6410"
      },
      "execution_count": null,
      "outputs": [
        {
          "output_type": "stream",
          "name": "stdout",
          "text": [
            "[ 100.          129.1549665   166.81005372  215.443469    278.25594022\n",
            "  359.38136638  464.15888336  599.48425032  774.26368268 1000.        ]\n"
          ]
        }
      ]
    },
    {
      "cell_type": "code",
      "source": [
        "#Utilizando las funciones zeros y ones\n",
        "\n",
        "m_1 = np.zeros(shape=(2,4,3), dtype='int64') #Array\n",
        "print(m_1)\n",
        "print('\\n')\n",
        "m_2 = m_1 = np.ones(shape=(4,3), dtype='int64') #Array\n",
        "print(m_1)\n",
        "\n",
        "#Si quiero dejar que python me defina la cantidad de columnas o filas en base a otros parametros\n",
        "m_3 = np.arange(27).reshape(-1,3,3)\n",
        "print('Tamaño:',m_3.size, 'Dimensiones:', m_3.ndim, 'Shape:', m_3.shape)\n",
        "print('\\n')\n",
        "print(m_3)\n"
      ],
      "metadata": {
        "colab": {
          "base_uri": "https://localhost:8080/"
        },
        "id": "ZWBFtEXyyBD5",
        "outputId": "1db27c22-fc32-40c7-8b60-6044f9392a1d"
      },
      "execution_count": null,
      "outputs": [
        {
          "output_type": "stream",
          "name": "stdout",
          "text": [
            "[[[0 0 0]\n",
            "  [0 0 0]\n",
            "  [0 0 0]\n",
            "  [0 0 0]]\n",
            "\n",
            " [[0 0 0]\n",
            "  [0 0 0]\n",
            "  [0 0 0]\n",
            "  [0 0 0]]]\n",
            "\n",
            "\n",
            "[[1 1 1]\n",
            " [1 1 1]\n",
            " [1 1 1]\n",
            " [1 1 1]]\n",
            "Tamaño: 27 Dimensiones: 3 Shape: (3, 3, 3)\n",
            "\n",
            "\n",
            "[[[ 0  1  2]\n",
            "  [ 3  4  5]\n",
            "  [ 6  7  8]]\n",
            "\n",
            " [[ 9 10 11]\n",
            "  [12 13 14]\n",
            "  [15 16 17]]\n",
            "\n",
            " [[18 19 20]\n",
            "  [21 22 23]\n",
            "  [24 25 26]]]\n"
          ]
        }
      ]
    },
    {
      "cell_type": "code",
      "source": [
        "#Metodo flatten()\n",
        "m = np.arange(27).reshape(-1,3,3)\n",
        "b = m.flatten()\n",
        "#Aplana todos los valores a una sola dimension\n",
        "print(b)\n"
      ],
      "metadata": {
        "colab": {
          "base_uri": "https://localhost:8080/"
        },
        "id": "-jNn-i__1LS4",
        "outputId": "fa74e125-58ed-489b-eabb-b348ddc49249"
      },
      "execution_count": null,
      "outputs": [
        {
          "output_type": "stream",
          "name": "stdout",
          "text": [
            "[ 0  1  2  3  4  5  6  7  8  9 10 11 12 13 14 15 16 17 18 19 20 21 22 23\n",
            " 24 25 26]\n"
          ]
        }
      ]
    },
    {
      "cell_type": "code",
      "source": [
        "arreglo = []\n",
        "for i in range(1,300, 12):\n",
        "  arreglo.append(i)\n",
        "\n",
        "\n",
        "def rellenar(inicio, final, step):\n",
        "   arreglo = []\n",
        "   for i in range(inicio, final, step): arreglo.append(i)\n",
        "   return np.array(arreglo)\n",
        "\n",
        "mat = np.array(arreglo, dtype=\"int64\")\n",
        "#En shape primero filas y luego columnas\n",
        "mat.shape = (5,5)\n",
        "print(mat)"
      ],
      "metadata": {
        "colab": {
          "base_uri": "https://localhost:8080/"
        },
        "id": "yBjyJ7Fgb1tf",
        "outputId": "7305c015-0487-4c68-cdb6-b6f7b68e8f4d"
      },
      "execution_count": null,
      "outputs": [
        {
          "output_type": "stream",
          "name": "stdout",
          "text": [
            "[[  1  13  25  37  49]\n",
            " [ 61  73  85  97 109]\n",
            " [121 133 145 157 169]\n",
            " [181 193 205 217 229]\n",
            " [241 253 265 277 289]]\n"
          ]
        }
      ]
    },
    {
      "cell_type": "code",
      "source": [
        "a = np.reshape(np.array(range(1,26)), (5,5))\n",
        "print(a)\n",
        "print(a[-2])\n",
        "b = a[-1:,-1:]\n",
        "print(b)"
      ],
      "metadata": {
        "colab": {
          "base_uri": "https://localhost:8080/"
        },
        "id": "FEq4M86X3S9k",
        "outputId": "eb38f302-071f-4359-b8a8-ddaa4edf0970"
      },
      "execution_count": null,
      "outputs": [
        {
          "output_type": "stream",
          "name": "stdout",
          "text": [
            "[[ 1  2  3  4  5]\n",
            " [ 6  7  8  9 10]\n",
            " [11 12 13 14 15]\n",
            " [16 17 18 19 20]\n",
            " [21 22 23 24 25]]\n",
            "[16 17 18 19 20]\n",
            "[[25]]\n"
          ]
        }
      ]
    },
    {
      "cell_type": "code",
      "source": [
        "#Trabajando con mascaras\n",
        "\n",
        "a = np.array([1,2,3,4,5,6,7])\n",
        "mascara = a > 3\n",
        "\n",
        "print(a)\n",
        "print(mascara)\n",
        "print(a[mascara])\n",
        "\n",
        "#Mascaras con booleanos\n",
        "\n",
        "a_2 = np.array([1,2,3,4,5,6,7])\n",
        "mascara_2 = [True, True, False, True, False, False, False]\n",
        "print(a_2)\n",
        "print(mascara_2)\n",
        "print(a_2[mascara_2])\n",
        "\n"
      ],
      "metadata": {
        "colab": {
          "base_uri": "https://localhost:8080/"
        },
        "id": "0mlhPY1v5vJR",
        "outputId": "d852eec1-27b0-403d-af1d-e64e0959d7ad"
      },
      "execution_count": null,
      "outputs": [
        {
          "output_type": "stream",
          "name": "stdout",
          "text": [
            "[1 2 3 4 5 6 7]\n",
            "[False False False  True  True  True  True]\n",
            "[4 5 6 7]\n",
            "[1 2 3 4 5 6 7]\n",
            "[True, True, False, True, False, False, False]\n",
            "[1 2 4]\n"
          ]
        }
      ]
    },
    {
      "cell_type": "code",
      "source": [
        "#Modificar arreglos con mascaras\n",
        "\n",
        "a = np.array([1,2,3,4,5,6,7])\n",
        "mascara = a > 3\n",
        "\n",
        "print(a)\n",
        "print(mascara)\n",
        "a[mascara] = 0\n",
        "print(a)\n",
        "print(a[mascara])"
      ],
      "metadata": {
        "colab": {
          "base_uri": "https://localhost:8080/"
        },
        "id": "Xqm3RAk9660l",
        "outputId": "24b5b93c-ffd3-40eb-c121-280afe8f0b39"
      },
      "execution_count": null,
      "outputs": [
        {
          "output_type": "stream",
          "name": "stdout",
          "text": [
            "[1 2 3 4 5 6 7]\n",
            "[False False False  True  True  True  True]\n",
            "[1 2 3 0 0 0 0]\n",
            "[0 0 0 0]\n"
          ]
        }
      ]
    },
    {
      "cell_type": "code",
      "source": [
        "#Fancy indexing o indexacion elegante\n",
        "\n",
        "a = np.reshape([np.array(range(1,26))], (5,5))\n",
        "print('a: \\n',a)\n",
        "print('\\n a[[3,1]] \\n')\n",
        "#Extraigame las filas 3 y 1 en ese orden e imprimalas\n",
        "print(a[[3,1]])\n",
        "#En esa filas extraigame el elemento (n,m)\n",
        "\n",
        "print()\n",
        "print('a[[3,1], [2,0]]')\n",
        "print(a[[3,1], [2,0]])"
      ],
      "metadata": {
        "colab": {
          "base_uri": "https://localhost:8080/"
        },
        "id": "Dg5o8Skj7mM3",
        "outputId": "03d10ada-5139-4591-d545-9b3a3bd99eb3"
      },
      "execution_count": null,
      "outputs": [
        {
          "output_type": "stream",
          "name": "stdout",
          "text": [
            "a: \n",
            " [[ 1  2  3  4  5]\n",
            " [ 6  7  8  9 10]\n",
            " [11 12 13 14 15]\n",
            " [16 17 18 19 20]\n",
            " [21 22 23 24 25]]\n",
            "\n",
            " a[[3,1]] \n",
            "\n",
            "[[16 17 18 19 20]\n",
            " [ 6  7  8  9 10]]\n",
            "\n",
            "a[[3,1], [2,0]]\n",
            "[18  6]\n"
          ]
        }
      ]
    },
    {
      "cell_type": "code",
      "source": [
        "#Indexacion y slicing\n",
        "#Extramos la primera fila y la primera columna del arreglo\n",
        "print(mat[0][0])\n",
        "\n",
        "#Traemos la primera fila\n",
        "print(mat[0])\n",
        "\n",
        "print(mat[-1][-1])\n",
        "\n",
        "#Traemos la ultima fila\n",
        "print(mat[-1])\n",
        "print()\n",
        "#Slicing\n",
        "print(mat[3:4])\n",
        "print()\n",
        "print(mat[-1:1])\n",
        "\n",
        "#Tener en cuenta que en los slicing si se quiere rebanar y guardar en una variable se debe hacer la copia con el metodo .copy()"
      ],
      "metadata": {
        "colab": {
          "base_uri": "https://localhost:8080/"
        },
        "id": "K76ewWkndDq9",
        "outputId": "2e6dd962-ee54-4bae-e5c8-dbb5856c9966"
      },
      "execution_count": null,
      "outputs": [
        {
          "output_type": "stream",
          "name": "stdout",
          "text": [
            "1\n",
            "[ 1 13 25 37 49]\n",
            "289\n",
            "[241 253 265 277 289]\n",
            "\n",
            "[[181 193 205 217 229]]\n",
            "\n",
            "[]\n"
          ]
        }
      ]
    },
    {
      "cell_type": "markdown",
      "source": [
        "Aranges, te rellena una matriz del tamaño que le pongas"
      ],
      "metadata": {
        "id": "CIVVmvnbfibN"
      }
    },
    {
      "cell_type": "code",
      "source": [
        "\n",
        "#print(numeros)\n",
        "\n",
        "numbers = np.arange(20)\n",
        "print(numbers)\n",
        "print()\n",
        "print(numbers[1:12:2])\n",
        "print(numbers[-4:-1])\n",
        "\n",
        "#En este slicing le estamos diciendo que empieze en 12 y\n",
        "#llegue hasta el 1 y incremente hacia abajo 2\n",
        "print(numbers[12:1:-2])\n",
        "\n",
        "\n"
      ],
      "metadata": {
        "colab": {
          "base_uri": "https://localhost:8080/"
        },
        "id": "GG1Itt-cfnUl",
        "outputId": "df377121-bf6d-4cf8-d11c-aee07a8b828e"
      },
      "execution_count": null,
      "outputs": [
        {
          "output_type": "stream",
          "name": "stdout",
          "text": [
            "[ 0  1  2  3  4  5  6  7  8  9 10 11 12 13 14 15 16 17 18 19]\n",
            "\n",
            "[ 1  3  5  7  9 11]\n",
            "[16 17 18]\n",
            "[12 10  8  6  4  2]\n"
          ]
        }
      ]
    },
    {
      "cell_type": "code",
      "source": [
        "#Manera de cambiar un elemento de un arreglo conociendo su indice\n",
        "numeros = rellenar(10, 100, 7)\n",
        "print(numeros)\n",
        "\n",
        "numeros[3] = 13\n",
        "\n",
        "print(numeros)\n",
        "print(len(numeros))\n",
        "#Manera de cambiar varios elementos de un arreglo con slicing\n",
        "\n",
        "#Dato curioso si le metes mas numeros de los que vas a cambiar va a adicionar los otros nuevos numeros, como otra manera de añadir elementos a los indices\n",
        "numeros[3:12] = [0,1,2,3,4,5,6,7,8,9,10]\n",
        "print(numeros)\n",
        "print(len(numeros))\n"
      ],
      "metadata": {
        "colab": {
          "base_uri": "https://localhost:8080/"
        },
        "id": "HZ3yRQZairQL",
        "outputId": "5bfbd523-9924-4815-88cd-31bd4c51b179"
      },
      "execution_count": null,
      "outputs": [
        {
          "output_type": "stream",
          "name": "stdout",
          "text": [
            "[10, 17, 24, 31, 38, 45, 52, 59, 66, 73, 80, 87, 94]\n",
            "[10, 17, 24, 13, 38, 45, 52, 59, 66, 73, 80, 87, 94]\n",
            "13\n",
            "[10, 17, 24, 0, 1, 2, 3, 4, 5, 6, 7, 8, 9, 10, 94]\n",
            "15\n"
          ]
        }
      ]
    },
    {
      "cell_type": "code",
      "source": [
        "## Manejo de Numeros Aleatorios (random)\n",
        "\n",
        "np.random.seed(0) #Establecemos una semilla y al volver a usarla nos dara los mismos numeros aleaotorios\n",
        "print('Serie #1', np.random.rand(3)) #Creamos un vector de 3 numeros aleatorios\n",
        "\n",
        "np.random.seed(0)\n",
        "print('Serie #2', np.random.rand(3))\n",
        "\n",
        "print('Escalar: ', np.random.rand()) #Genera un solo numero aleatorio si no le pasamos un argumento\n",
        "print('Vector', np.random.rand(3)) #Genera un vector de 3 posiciones\n",
        "print('Matriz\\n', np.random.rand(3,3)) #Genera una matriz del tamaño que le demos (3x3)\n"
      ],
      "metadata": {
        "id": "1hR6G_Fpkkzq",
        "colab": {
          "base_uri": "https://localhost:8080/"
        },
        "outputId": "cb26d9e9-e110-4ea4-f32e-8b184a536848"
      },
      "execution_count": null,
      "outputs": [
        {
          "output_type": "stream",
          "name": "stdout",
          "text": [
            "Serie #1 [0.5488135  0.71518937 0.60276338]\n",
            "Serie #2 [0.5488135  0.71518937 0.60276338]\n",
            "Escalar:  0.5448831829968969\n",
            "Vector [0.4236548  0.64589411 0.43758721]\n",
            "Matriz\n",
            " [[0.891773   0.96366276 0.38344152]\n",
            " [0.79172504 0.52889492 0.56804456]\n",
            " [0.92559664 0.07103606 0.0871293 ]]\n",
            "\n",
            " \n",
            "\n",
            "Matriz, vector, escalar de enteros\n",
            "\n",
            "4\n"
          ]
        },
        {
          "output_type": "stream",
          "name": "stderr",
          "text": [
            "<ipython-input-8-bd5477f6807a>:15: DeprecationWarning: This function is deprecated. Please call randint(1, 4 + 1) instead\n",
            "  intm = np.random.random_integers(4);\n"
          ]
        }
      ]
    },
    {
      "cell_type": "code",
      "source": [
        "#Ejemplo con distribucion normal\n",
        "import matplotlib.pyplot as plt\n",
        "\n",
        "np.random.seed(12)#semilla\n",
        "\n",
        "campana_gauss = np.random.randn(10000) #Valores con distribucion normal con randn\n",
        "plt.hist(campana_gauss,bins=1000)\n",
        "plt.show() #Histograma con 1000 bins o banderas"
      ],
      "metadata": {
        "colab": {
          "base_uri": "https://localhost:8080/",
          "height": 432
        },
        "id": "-3cLUI21uJlB",
        "outputId": "5a4936d4-80d6-41c7-858e-177216cdc19e"
      },
      "execution_count": null,
      "outputs": [
        {
          "output_type": "display_data",
          "data": {
            "text/plain": [
              "<Figure size 640x480 with 1 Axes>"
            ],
            "image/png": "[encoded data removed]"
          },
          "metadata": {}
        }
      ]
    },
    {
      "cell_type": "code",
      "source": [
        "#VECTORIZACION\n",
        "\n",
        "#La vectorizacion permite realizar operaciones en conjuntos de datos de manera simultanea en vez de iterar sobre ellos uno por uno, para asi en vez de utilizar\n",
        "#bucles explicitos se aprovecha las capacidades de calculo que ofrece numpy\n",
        "\n",
        "#Ademas se puede hacer filtrado de elementos de un arreglo, ordenar un arreglo y aplicar transformaciones a un arreglo\n",
        "\n",
        "lista_A = [[20, 37, 51, 10],\n",
        "           [85, 28, 20, 47],\n",
        "           [20, 52, 95, 38]]\n",
        "\n",
        "lista_B = [[12, 45, 63, 3],\n",
        "           [10, 24, 5, 25],\n",
        "           [52, 12, 0, 8]]\n",
        "\n",
        "A = np.array(lista_A)\n",
        "B = np.array(lista_B)\n",
        "\n",
        "print('Operacion Suma: Suma elemento con elemento de las mismas posiciones a1_1+b1_1, a1_2+b1_2, ... an_n+bm_m\\n', A+B)\n",
        "\n",
        "#Funciones Trigonometricas\n",
        "#SENO\n",
        "#Suponiendo que A esta en grados, lo pasamos a radianes\n",
        "A_rad = np.radians(A)\n",
        "print('Sen(A):\\n', np.sin(A_rad))\n",
        "\n",
        "#Comparacion\n",
        "print('A>B: \\n', A > B) #Devuelve los booleanos de los valores de A comparados con los valores de B de la misma posicion\n",
        "\n",
        "#Filtrar numeros\n",
        "umbral = 50\n",
        "#Devuelve los numeros que esten en el arreglo que sean mayores al umbral\n",
        "print('A>umbral: \\n', A[A>umbral])\n"
      ],
      "metadata": {
        "id": "7gYflRZHvGRh",
        "colab": {
          "base_uri": "https://localhost:8080/"
        },
        "outputId": "cc42f035-1a29-444e-99a6-3d31d76e2167"
      },
      "execution_count": null,
      "outputs": [
        {
          "output_type": "stream",
          "name": "stdout",
          "text": [
            "Operacion Suma: Suma elemento con elemento de las mismas posiciones a1_1+b1_1, a1_2+b1_2, ... an_n+bm_m\n",
            " [[ 32  82 114  13]\n",
            " [ 95  52  25  72]\n",
            " [ 72  64  95  46]]\n",
            "Sen(A):\n",
            " [[0.34202014 0.60181502 0.77714596 0.17364818]\n",
            " [0.9961947  0.46947156 0.34202014 0.7313537 ]\n",
            " [0.34202014 0.78801075 0.9961947  0.61566148]]\n",
            "A>B: \n",
            " [[ True False False  True]\n",
            " [ True  True  True  True]\n",
            " [False  True  True  True]]\n",
            "A>umbral: \n",
            " [51 85 52 95]\n"
          ]
        }
      ]
    },
    {
      "cell_type": "code",
      "source": [
        "#Maneras de ordenamiento\n",
        "\n",
        "print('Matriz A organizado ascendentemete: \\n', np.sort(A)) #Lo que hace es ordenar las filas de izquierda a derecha"
      ],
      "metadata": {
        "colab": {
          "base_uri": "https://localhost:8080/"
        },
        "id": "zIn5RUquyEfi",
        "outputId": "2745b567-1889-48de-d9f7-dddd3bb5d10f"
      },
      "execution_count": null,
      "outputs": [
        {
          "output_type": "stream",
          "name": "stdout",
          "text": [
            "Matriz A organizado ascendentemete: \n",
            " [[10 20 37 51]\n",
            " [20 28 47 85]\n",
            " [20 38 52 95]]\n"
          ]
        }
      ]
    },
    {
      "cell_type": "code",
      "source": [
        "#AXIS\n",
        "#Si se tiene un array de tres dimensiones, axis=0 se refiere al eje x(filas), axis = 1, se refiere al eje y(columnas), y axis = 3, se refiere al eje z(dimensiones)\n",
        "A = np.array([[1, 2, 3], [4, 5, 6]])\n",
        "print('A: \\n', A)\n",
        "\n",
        "#Suma todos los elementos del array\n",
        "total = np.sum(A)\n",
        "print('Suma todos los elementos de A', total)\n",
        "\n",
        "#Computar la suma a lo largo de las filas, axis=0 (rows)\n",
        "filas_sum = np.sum(A,axis=0)\n",
        "print(\"El total de los elementos de las filas( eje x ) es\", filas_sum) #Suma las columnas y da el resultado de cada columna sumada\n",
        "columnas_sum = np.sum(A, axis=1)\n",
        "print('El totla de los elementos de las columnas (eje y) es', columnas_sum) #Suma toda la fila y da el resultado de la suma de cada fila\n",
        "\n",
        "#Computar el minimo a lo largo de las filas\n",
        "print('El minimo a lo largo de las filas de A es', np.min(A,axis=0)) #Agarra el minimo de cada columna y lo imprime de acuerdo a la cantidad de columnas que haya\n",
        "\n",
        "print('El minimo a lo largo de las columnas de A es', np.min(A,axis=1)) #Agarra el minimo de cada fila y lo imprime de acuerdo a la cantidad de filas que haya\n",
        "\n",
        "#Funciona exactamente igual con el maximo [Funcion max()]\n",
        "\n"
      ],
      "metadata": {
        "colab": {
          "base_uri": "https://localhost:8080/"
        },
        "id": "wktL0g1LywPQ",
        "outputId": "85c54107-a626-452c-dd70-ea803627a7b8"
      },
      "execution_count": null,
      "outputs": [
        {
          "output_type": "stream",
          "name": "stdout",
          "text": [
            "A: \n",
            " [[1 2 3]\n",
            " [4 5 6]]\n",
            "Suma todos los elementos de A 21\n",
            "El total de los elementos de las filas( eje x ) es [5 7 9]\n",
            "El totla de los elementos de las columnas (eje y) es [ 6 15]\n",
            "El minimo a lo largo de las filas de A es [1 2 3]\n",
            "El minimo a lo largo de las columnas de A es [1 4]\n"
          ]
        }
      ]
    },
    {
      "cell_type": "markdown",
      "source": [
        "## Broadcasting\n",
        "\n",
        "Tratamiento de matrices con diferentes formas"
      ],
      "metadata": {
        "id": "sBYpH08k2R6n"
      }
    },
    {
      "cell_type": "code",
      "source": [
        "#Agregar una matriz unidimensional a una matriz multidimensional\n",
        "\n",
        "A = np.array([[0, 0, 0],\n",
        "              [10, 10, 10],\n",
        "              [20, 20, 20],\n",
        "              [30, 30, 30]], dtype='float64')\n",
        "\n",
        "B = np.array([1, 2, 3], dtype='float64')\n",
        "C = np.array([1.0, 2.0, 3.0, 4.0])\n",
        "\n",
        "print(\"A + B: \\n\", A + B)\n"
      ],
      "metadata": {
        "colab": {
          "base_uri": "https://localhost:8080/",
          "height": 263
        },
        "id": "nw4-T5fz1Mbv",
        "outputId": "93bc2187-89f3-47e9-c821-8e81855e6420"
      },
      "execution_count": null,
      "outputs": [
        {
          "output_type": "stream",
          "name": "stdout",
          "text": [
            "A + B: \n",
            " [[ 1.  2.  3.]\n",
            " [11. 12. 13.]\n",
            " [21. 22. 23.]\n",
            " [31. 32. 33.]]\n"
          ]
        },
        {
          "output_type": "error",
          "ename": "ValueError",
          "evalue": "operands could not be broadcast together with shapes (4,3) (4,) ",
          "traceback": [
            "\u001b[0;31m---------------------------------------------------------------------------\u001b[0m",
            "\u001b[0;31mValueError\u001b[0m                                Traceback (most recent call last)",
            "\u001b[0;32m<ipython-input-28-7be6a70e25c3>\u001b[0m in \u001b[0;36m<cell line: 12>\u001b[0;34m()\u001b[0m\n\u001b[1;32m     10\u001b[0m \u001b[0;34m\u001b[0m\u001b[0m\n\u001b[1;32m     11\u001b[0m \u001b[0mprint\u001b[0m\u001b[0;34m(\u001b[0m\u001b[0;34m\"A + B: \\n\"\u001b[0m\u001b[0;34m,\u001b[0m \u001b[0mA\u001b[0m \u001b[0;34m+\u001b[0m \u001b[0mB\u001b[0m\u001b[0;34m)\u001b[0m\u001b[0;34m\u001b[0m\u001b[0;34m\u001b[0m\u001b[0m\n\u001b[0;32m---> 12\u001b[0;31m \u001b[0mprint\u001b[0m\u001b[0;34m(\u001b[0m\u001b[0;34m\"A + C: \\n\"\u001b[0m\u001b[0;34m,\u001b[0m \u001b[0mA\u001b[0m \u001b[0;34m+\u001b[0m \u001b[0mC\u001b[0m\u001b[0;34m)\u001b[0m\u001b[0;34m\u001b[0m\u001b[0;34m\u001b[0m\u001b[0m\n\u001b[0m",
            "\u001b[0;31mValueError\u001b[0m: operands could not be broadcast together with shapes (4,3) (4,) "
          ]
        }
      ]
    },
    {
      "cell_type": "markdown",
      "source": [
        "### Concatenacion\n",
        "\n",
        "Poner el contenido de dos o mas matrices en una sola matriz, las matrices deberan ser de igual tamaño"
      ],
      "metadata": {
        "id": "tpziUfuJ8Hha"
      }
    },
    {
      "cell_type": "code",
      "source": [
        "lista_A = [[4, 7, 8, 10],\n",
        "           [6, 12, 15, 0],\n",
        "           [1, 6, 8, 10]]\n",
        "\n",
        "A = np.array(lista_A)\n",
        "lista_B = [[2, 3, 6, -2],\n",
        "           [6, 5, 2, 0],\n",
        "           [-3, 15, 2, 0]]\n",
        "\n",
        "B = np.array(lista_B)\n",
        "\n",
        "C = np.array([[2, 3, 6, -2],\n",
        "              [6, 5, 2, 0]])\n",
        "\n",
        "D = np.array([[4, 7],\n",
        "              [6, 12],\n",
        "              [1, 6]])\n",
        "\n",
        "#Concatenar A con B (por defecto es a lo largo de las filas)\n",
        "R = np.concatenate((A,B), axis=0) #Por defecto es axis = 0\n",
        "print('A concatenada con B\\n', R) #Pego la matriz por debajo A debajo B\n",
        "\n",
        "#Concatenar A con B a lo largo de las columnas\n",
        "R1 = np.concatenate((A,B), axis=1)\n",
        "print(\"A concatenada con B\\n\", R1) #Pego la matriz B a la derecha de A\n",
        "\n",
        "R2 = np.concatenate((A,B,C), axis=0)\n",
        "print(\" A concat con B concat con C a lo largo de las filas: \\n\", R2)\n",
        "\n",
        "'''\n",
        "R3 = np.concatenate((A,B,C), axis=1) Va a dar error porque no son tamaños compatibles\n",
        "R4 = np.concatenate((A,B,D), axis=0) Va a dar error porque no son tamaños compatibles\n",
        "\n",
        "'''\n",
        "\n",
        "R5 = np.concatenate((A,B,D), axis=1)\n",
        "print(\"A concat B concat D va a pegar las matrices hacia la derecha: \\n \", R5)\n",
        "\n",
        "mat_D = R5[:,8:].copy()\n",
        "\n",
        "print('\\n', mat_D)"
      ],
      "metadata": {
        "colab": {
          "base_uri": "https://localhost:8080/"
        },
        "id": "D91uZ_WQ8F-C",
        "outputId": "4e2440b8-2a79-40af-a2a1-371111f8eabd"
      },
      "execution_count": null,
      "outputs": [
        {
          "output_type": "stream",
          "name": "stdout",
          "text": [
            "A concatenada con B\n",
            " [[ 4  7  8 10]\n",
            " [ 6 12 15  0]\n",
            " [ 1  6  8 10]\n",
            " [ 2  3  6 -2]\n",
            " [ 6  5  2  0]\n",
            " [-3 15  2  0]]\n",
            "A concatenada con B\n",
            " [[ 4  7  8 10  2  3  6 -2]\n",
            " [ 6 12 15  0  6  5  2  0]\n",
            " [ 1  6  8 10 -3 15  2  0]]\n",
            " A concat con B concat con C a lo largo de las filas: \n",
            " [[ 4  7  8 10]\n",
            " [ 6 12 15  0]\n",
            " [ 1  6  8 10]\n",
            " [ 2  3  6 -2]\n",
            " [ 6  5  2  0]\n",
            " [-3 15  2  0]\n",
            " [ 2  3  6 -2]\n",
            " [ 6  5  2  0]]\n",
            "A concat B concat D va a pegar las matrices hacia la derecha: \n",
            "  [[ 4  7  8 10  2  3  6 -2  4  7]\n",
            " [ 6 12 15  0  6  5  2  0  6 12]\n",
            " [ 1  6  8 10 -3 15  2  0  1  6]]\n",
            "\n",
            " [[ 4  7]\n",
            " [ 6 12]\n",
            " [ 1  6]]\n"
          ]
        }
      ]
    }
  ]
}